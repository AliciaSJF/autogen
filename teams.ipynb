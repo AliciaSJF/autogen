{
 "cells": [
  {
   "cell_type": "markdown",
   "metadata": {},
   "source": [
    "# **AutoGen - Equipos de Agentes (Teams)**\n",
    "\n",
    "Un **team** en AutoGen es un grupo de agentes que trabajan juntos para lograr un objetivo común. Se recomienda usar equipos cuando una sola IA no es suficiente para resolver una tarea y se requiere **colaboración y especialización**.\n",
    "\n",
    "## **¿Cuándo usar un equipo de agentes?**\n",
    "\n",
    "✅ Útil para tareas complejas que requieren colaboración.  \n",
    "❌ No recomendable para tareas simples que un solo agente puede manejar.  \n",
    "📌 **Recomendación:** Antes de crear un equipo, optimiza un solo agente con las herramientas adecuadas.\n",
    "\n",
    "---\n",
    "\n",
    "## **1️⃣ Creando un equipo con RoundRobinGroupChat**\n",
    "\n",
    "La estructura **RoundRobinGroupChat** es un equipo donde los agentes **comparten el mismo contexto** y **se turnan para responder** de forma ordenada.\n",
    "\n",
    "📌 **Ejemplo: Equipo con dos agentes (Asistente + Crítico)**  \n",
    "Este equipo usa el **patrón de reflexión**, donde un crítico evalúa las respuestas del asistente.\n",
    "\n",
    "### **Paso 1: Importar las librerías**"
   ]
  },
  {
   "cell_type": "code",
   "execution_count": 4,
   "metadata": {},
   "outputs": [
    {
     "ename": "ImportError",
     "evalue": "cannot import name 'OpenAIChatCompletionClient4' from 'autogen_ext.models.openai' (c:\\Users\\Alicia\\Documents\\python\\autogen\\venv\\Lib\\site-packages\\autogen_ext\\models\\openai\\__init__.py)",
     "output_type": "error",
     "traceback": [
      "\u001b[1;31m---------------------------------------------------------------------------\u001b[0m",
      "\u001b[1;31mImportError\u001b[0m                               Traceback (most recent call last)",
      "Cell \u001b[1;32mIn[4], line 6\u001b[0m\n\u001b[0;32m      4\u001b[0m \u001b[38;5;28;01mfrom\u001b[39;00m\u001b[38;5;250m \u001b[39m\u001b[38;5;21;01mautogen_agentchat\u001b[39;00m\u001b[38;5;21;01m.\u001b[39;00m\u001b[38;5;21;01mconditions\u001b[39;00m\u001b[38;5;250m \u001b[39m\u001b[38;5;28;01mimport\u001b[39;00m TextMentionTermination\n\u001b[0;32m      5\u001b[0m \u001b[38;5;28;01mfrom\u001b[39;00m\u001b[38;5;250m \u001b[39m\u001b[38;5;21;01mautogen_agentchat\u001b[39;00m\u001b[38;5;21;01m.\u001b[39;00m\u001b[38;5;21;01mteams\u001b[39;00m\u001b[38;5;250m \u001b[39m\u001b[38;5;28;01mimport\u001b[39;00m RoundRobinGroupChat\n\u001b[1;32m----> 6\u001b[0m \u001b[38;5;28;01mfrom\u001b[39;00m\u001b[38;5;250m \u001b[39m\u001b[38;5;21;01mautogen_ext\u001b[39;00m\u001b[38;5;21;01m.\u001b[39;00m\u001b[38;5;21;01mmodels\u001b[39;00m\u001b[38;5;21;01m.\u001b[39;00m\u001b[38;5;21;01mopenai\u001b[39;00m\u001b[38;5;250m \u001b[39m\u001b[38;5;28;01mimport\u001b[39;00m OpenAIChatCompletionClient4\n",
      "\u001b[1;31mImportError\u001b[0m: cannot import name 'OpenAIChatCompletionClient4' from 'autogen_ext.models.openai' (c:\\Users\\Alicia\\Documents\\python\\autogen\\venv\\Lib\\site-packages\\autogen_ext\\models\\openai\\__init__.py)"
     ]
    }
   ],
   "source": [
    "import asyncio\n",
    "from autogen_agentchat.agents import AssistantAgent\n",
    "from autogen_agentchat.base import TaskResult\n",
    "from autogen_agentchat.conditions import TextMentionTermination\n",
    "from autogen_agentchat.teams import RoundRobinGroupChat\n",
    "from autogen_ext.models.openai import OpenAIChatCompletionClient\n",
    "import os\n",
    "from autogen_core.models import UserMessage\n"
   ]
  },
  {
   "cell_type": "markdown",
   "metadata": {},
   "source": [
    "### **Paso 2: Crear los agentes**"
   ]
  },
  {
   "cell_type": "code",
   "execution_count": 2,
   "metadata": {},
   "outputs": [],
   "source": [
    "\n",
    "# Crear un cliente de modelo OpenAI\n",
    "model_client = OpenAIChatCompletionClient(\n",
    "    model=\"gpt-4o-2024-08-06\",\n",
    "    api_key= os.getenv(\"OPENAI_API_KEY\")\n",
    ")\n",
    "\n",
    "# Agente principal que genera contenido\n",
    "primary_agent = AssistantAgent(\n",
    "    \"primary\",\n",
    "    model_client=model_client,\n",
    "    system_message=\"You are a helpful AI assistant.\"\n",
    ")\n",
    "\n",
    "# Agente crítico que revisa el contenido y da feedback\n",
    "critic_agent = AssistantAgent(\n",
    "    \"critic\",\n",
    "    model_client=model_client,\n",
    "    system_message=\"Provide constructive feedback. Respond with 'APPROVE' when your feedback is addressed.\"\n",
    ")"
   ]
  }
 ],
 "metadata": {
  "kernelspec": {
   "display_name": "venv",
   "language": "python",
   "name": "python3"
  },
  "language_info": {
   "codemirror_mode": {
    "name": "ipython",
    "version": 3
   },
   "file_extension": ".py",
   "mimetype": "text/x-python",
   "name": "python",
   "nbconvert_exporter": "python",
   "pygments_lexer": "ipython3",
   "version": "3.13.1"
  }
 },
 "nbformat": 4,
 "nbformat_minor": 2
}
