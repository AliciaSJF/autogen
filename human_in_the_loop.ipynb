{
 "cells": [
  {
   "cell_type": "markdown",
   "metadata": {},
   "source": [
    "# **Human-in-the-Loop en AutoGen**\n",
    "\n",
    "El enfoque **Human-in-the-Loop** (HITL) en AutoGen permite la interacción directa entre un usuario humano y un equipo de agentes en tiempo real. Esto es útil para: ✅ **Dar feedback en tiempo real** mientras el equipo está en ejecución.  \n",
    "✅ **Modificar la conversación antes de continuar** en una nueva ejecución.  \n",
    "✅ **Combinar IA y supervisión humana** para mejorar respuestas.\n",
    "\n",
    "---\n",
    "\n",
    "## **1️⃣ Métodos para Proporcionar Feedback**\n",
    "\n",
    "Existen **dos formas principales** de interactuar con un equipo de agentes y proporcionar feedback:\n",
    "\n",
    "|**Método**|**Descripción**|**Uso recomendado**|\n",
    "|---|---|---|\n",
    "|**Durante la ejecución**|Se usa un `UserProxyAgent` para que el usuario pueda intervenir en tiempo real.|Para interacciones **inmediatas** (aprobaciones, selecciones rápidas).|\n",
    "|**Después de la ejecución**|Se proporciona feedback en la siguiente llamada a `run()`.|Para ajustes en una **sesión persistente**.|\n",
    "\n",
    "---\n",
    "\n",
    "## **2️⃣ Proporcionar Feedback Durante una Ejecución**\n",
    "\n",
    "Se usa el **`UserProxyAgent`**, un agente especial que actúa como **intermediario entre el usuario y el equipo**.\n",
    "\n",
    "📌 **¿Cómo funciona?**\n",
    "\n",
    "1. El equipo ejecuta su tarea.\n",
    "2. En cierto momento, **se detiene y espera la intervención del usuario**.\n",
    "3. Una vez el usuario proporciona feedback, la ejecución continúa.\n",
    "\n",
    "💡 **Ejemplo: Usar `UserProxyAgent` en un equipo de RoundRobinGroupChat**"
   ]
  },
  {
   "cell_type": "code",
   "execution_count": null,
   "metadata": {},
   "outputs": [],
   "source": [
    "from autogen_agentchat.agents import AssistantAgent, UserProxyAgent\n",
    "from autogen_agentchat.conditions import TextMentionTermination\n",
    "from autogen_agentchat.teams import RoundRobinGroupChat\n",
    "from autogen_agentchat.ui import Console\n",
    "from autogen_ext.models.openai import OpenAIChatCompletionClient\n",
    "import os\n",
    "# Crear los agentes\n",
    "model_client = OpenAIChatCompletionClient(model=\"gpt-4o-mini\", api_key=os.environ[\"OPENAI_API_KEY\"])\n",
    "assistant = AssistantAgent(\"assistant\", model_client=model_client)\n",
    "\n",
    "# Agente que permite intervención humana a través de input()\n",
    "user_proxy = UserProxyAgent(\"user_proxy\", input_func=input)\n",
    "\n",
    "# Condición de terminación: el equipo se detendrá si el usuario dice \"APPROVE\"\n",
    "termination = TextMentionTermination(\"APPROVE\")\n",
    "\n",
    "# Crear el equipo con el asistente y el usuario proxy\n",
    "team = RoundRobinGroupChat([assistant, user_proxy], termination_condition=termination)\n",
    "\n",
    "# Ejecutar el equipo en streaming\n",
    "await Console(team.run_stream(task=\"Write a 4-line poem about the ocean.\"))\n"
   ]
  }
 ],
 "metadata": {
  "kernelspec": {
   "display_name": "venv",
   "language": "python",
   "name": "python3"
  },
  "language_info": {
   "name": "python",
   "version": "3.13.1"
  }
 },
 "nbformat": 4,
 "nbformat_minor": 2
}
