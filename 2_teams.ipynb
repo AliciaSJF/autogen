{
 "cells": [
  {
   "cell_type": "markdown",
   "metadata": {},
   "source": [
    "# **AutoGen - Equipos de Agentes (Teams)**\n",
    "\n",
    "Un **team** en AutoGen es un grupo de agentes que trabajan juntos para lograr un objetivo común. Se recomienda usar equipos cuando una sola IA no es suficiente para resolver una tarea y se requiere **colaboración y especialización**.\n",
    "\n",
    "## **¿Cuándo usar un equipo de agentes?**\n",
    "\n",
    "✅ Útil para tareas complejas que requieren colaboración.  \n",
    "❌ No recomendable para tareas simples que un solo agente puede manejar.  \n",
    "📌 **Recomendación:** Antes de crear un equipo, optimiza un solo agente con las herramientas adecuadas.\n",
    "\n",
    "---\n",
    "\n",
    "## **1️⃣ Creando un equipo con RoundRobinGroupChat**\n",
    "\n",
    "La estructura **RoundRobinGroupChat** es un equipo donde los agentes **comparten el mismo contexto** y **se turnan para responder** de forma ordenada.\n",
    "\n",
    "📌 **Ejemplo: Equipo con dos agentes (Asistente + Crítico)**  \n",
    "Este equipo usa el **patrón de reflexión**, donde un crítico evalúa las respuestas del asistente.\n",
    "\n",
    "### **Paso 1: Importar las librerías**"
   ]
  },
  {
   "cell_type": "code",
   "execution_count": 5,
   "metadata": {},
   "outputs": [],
   "source": [
    "import asyncio\n",
    "from autogen_agentchat.agents import AssistantAgent\n",
    "from autogen_agentchat.base import TaskResult\n",
    "from autogen_agentchat.conditions import TextMentionTermination\n",
    "from autogen_agentchat.teams import RoundRobinGroupChat\n",
    "from autogen_ext.models.openai import OpenAIChatCompletionClient\n",
    "import os\n",
    "from autogen_core.models import UserMessage\n"
   ]
  },
  {
   "cell_type": "markdown",
   "metadata": {},
   "source": [
    "### **Paso 2: Crear los agentes**"
   ]
  },
  {
   "cell_type": "code",
   "execution_count": 6,
   "metadata": {},
   "outputs": [],
   "source": [
    "\n",
    "# Crear un cliente de modelo OpenAI\n",
    "model_client = OpenAIChatCompletionClient(\n",
    "    model=\"gpt-4o-2024-08-06\",\n",
    "    api_key= os.getenv(\"OPENAI_API_KEY\")\n",
    ")\n",
    "\n",
    "# Agente principal que genera contenido\n",
    "primary_agent = AssistantAgent(\n",
    "    \"primary\",\n",
    "    model_client=model_client,\n",
    "    system_message=\"You are a helpful AI assistant.\"\n",
    ")\n",
    "\n",
    "# Agente crítico que revisa el contenido y da feedback\n",
    "critic_agent = AssistantAgent(\n",
    "    \"critic\",\n",
    "    model_client=model_client,\n",
    "    system_message=\"Provide constructive feedback. Respond with 'APPROVE' when your feedback is addressed.\"\n",
    ")"
   ]
  },
  {
   "cell_type": "markdown",
   "metadata": {},
   "source": [
    "### **Paso 3: Definir una condición de terminación**\n"
   ]
  },
  {
   "cell_type": "code",
   "execution_count": 7,
   "metadata": {},
   "outputs": [],
   "source": [
    "# Condición de terminación: el equipo se detendrá cuando el crítico diga \"APPROVE\"\n",
    "text_termination = TextMentionTermination(\"APPROVE\")"
   ]
  },
  {
   "cell_type": "markdown",
   "metadata": {},
   "source": [
    "### **Paso 4: Crear el equipo**"
   ]
  },
  {
   "cell_type": "code",
   "execution_count": 9,
   "metadata": {},
   "outputs": [],
   "source": [
    "# Configurar el equipo con los agentes y la condición de terminación\n",
    "team = RoundRobinGroupChat([primary_agent, critic_agent], termination_condition=text_termination)"
   ]
  },
  {
   "cell_type": "markdown",
   "metadata": {},
   "source": [
    "---\n",
    "\n",
    "## **2️⃣ Ejecutando un equipo**\n",
    "\n",
    "Podemos ejecutar el equipo con `run()` para completar una tarea de manera estructurada.\n",
    "\n",
    "### **Ejemplo: Escribir un poema sobre el otoño** "
   ]
  },
  {
   "cell_type": "code",
   "execution_count": 10,
   "metadata": {},
   "outputs": [
    {
     "name": "stdout",
     "output_type": "stream",
     "text": [
      "TaskResult(messages=[TextMessage(source='user', models_usage=None, content='Write a short poem about the fall season.', type='TextMessage'), TextMessage(source='primary', models_usage=RequestUsage(prompt_tokens=28, completion_tokens=131), content=\"Golden leaves begin to dance,  \\nIn the cool and gentle breeze,  \\nWhispering secrets of romance,  \\nAmongst the aging trees.  \\n\\nThe air is crisp, the skies are bright,  \\nPumpkin scents drift far and wide,  \\nNature dons her cloak of light,  \\nIn hues that cannot hide.  \\n\\nFields of amber, skies of gray,  \\nThe world slows down its pace,  \\nAs autumn gently paves the way,  \\nFor winter's cold embrace.  \\n\\nIn each moment rich and true,  \\nAutumn's charm is found,  \\nA fleeting time, a wondrous hue,  \\nWhere beauty does abound.  \", type='TextMessage'), TextMessage(source='critic', models_usage=RequestUsage(prompt_tokens=174, completion_tokens=166), content='This is a beautiful and evocative poem that captures the essence of the fall season wonderfully. The imagery of \"golden leaves\" and \"fields of amber\" effectively paints a vivid picture of autumn\\'s beauty. The personification of nature through phrases like \"Nature dons her cloak of light,\" adds a lovely touch, giving the poem a sense of whimsy and charm. The stanza about autumn paving the way for winter also elegantly conveys the passage of time. Overall, it\\'s a well-crafted piece.\\n\\nIf I were to suggest any improvements, it might be to explore more sensory details beyond sight and touch, like sounds or tastes associated with fall, to enrich the imagery further. However, the poem is already quite engaging as it is!\\n\\nPlease let me know if you\\'d like any further suggestions or specific revisions. Otherwise, great job!', type='TextMessage'), TextMessage(source='primary', models_usage=RequestUsage(prompt_tokens=335, completion_tokens=180), content=\"Thank you for your thoughtful feedback! Adding sensory details like sounds or tastes can certainly enhance the imagery. Here's a revised version incorporating those elements:\\n\\nGolden leaves begin to dance,  \\nIn the cool and gentle breeze,  \\nWhispering secrets of romance,  \\nAmongst the aging trees.  \\n\\nCrisp the air, with scents of spice,  \\nChiming laughter from afar,  \\nSweet cider sips by firelight,  \\nUnderneath a harvest star.  \\n\\nFields of amber, skies of gray,  \\nCrunch beneath our wandering feet,  \\nAs autumn's songs hold sway,  \\nWith melodies bittersweet.  \\n\\nIn each moment rich and true,  \\nAutumn's charm is found,  \\nA fleeting time, a wondrous hue,  \\nWhere beauty does abound.  \\n\\nI hope this version resonates as well! Let me know if there are any other aspects you'd like to explore or modify.\", type='TextMessage'), TextMessage(source='critic', models_usage=RequestUsage(prompt_tokens=530, completion_tokens=105), content='Your revised poem beautifully captures the essence of fall with enhanced sensory details. The inclusion of scents, sounds, and tastes such as \"chiming laughter,\" \"sweet cider sips,\" and \"crunch beneath our wandering feet\" creates a richer, more immersive experience for the reader. The stanza about cider and firelight adds a cozy, inviting layer to the poem. Additionally, the auditory elements with \"autumn\\'s songs\" and \"melodies bittersweet\" artfully convey the ambiance of the season.\\n\\nAPPROVE', type='TextMessage')], stop_reason=\"Text 'APPROVE' mentioned\")\n"
     ]
    }
   ],
   "source": [
    "# Ejecutar el equipo con una tarea\n",
    "result = await team.run(task=\"Write a short poem about the fall season.\")\n",
    "print(result)"
   ]
  },
  {
   "cell_type": "code",
   "execution_count": 11,
   "metadata": {},
   "outputs": [
    {
     "name": "stdout",
     "output_type": "stream",
     "text": [
      "source='user' models_usage=None content='Write a short poem about the fall season.' type='TextMessage'\n",
      "source='primary' models_usage=RequestUsage(prompt_tokens=28, completion_tokens=102) content=\"Golden leaves in gentle flight,  \\nWhispering winds in the crisp twilight.  \\nPumpkin patches, fields aglow,  \\nHarvest moons that softly show.  \\n\\nSweaters wrapped in warm embrace,  \\nThe cozy hearth, a glowing space.  \\nNature's palette, rich and bold,  \\nStories by the fire told.  \\n\\nIn the stillness, beauty calls,  \\nEchoes of the fragrant fall.  \\nA fleeting dance 'neath amber skies,  \\nWhere time slows down and magic lies.  \" type='TextMessage'\n",
      "source='critic' models_usage=RequestUsage(prompt_tokens=145, completion_tokens=124) content=\"This is a lovely poem that captures the essence of the fall season beautifully. The imagery of golden leaves, whispering winds, and harvest moons creates a vivid picture of autumnal beauty. The lines about sweaters, a cozy hearth, and stories by the fire evoke a sense of warmth and comfort that is synonymous with fall. The poem's rhythm and flow are smooth, adding to its overall charm. You might consider expanding on the sense of community or other fall activities for added depth, but it stands beautifully as is. Well done!\\n\\nLet me know if you make any changes, and I'll be happy to review them.\" type='TextMessage'\n",
      "source='primary' models_usage=RequestUsage(prompt_tokens=264, completion_tokens=182) content=\"Thank you for your thoughtful feedback! I'm glad you enjoyed the poem. Here's a revised version with an added emphasis on community and fall activities:\\n\\n---\\n\\nGolden leaves in gentle flight,  \\nWhispering winds in the crisp twilight.  \\nPumpkin patches, fields aglow,  \\nHarvest festivals, a lively show.  \\n\\nSweaters wrapped in warm embrace,  \\nFriends gather 'round, smiles on each face.  \\nNature's palette, rich and bold,  \\nStories by the fire retold.  \\n\\nChildren laugh through corn mazes wide,  \\nCarving pumpkins side by side.  \\nEchoes of joy as cider flows,  \\nWhere community thrives and warmth grows.  \\n\\nIn the stillness, beauty calls,  \\nEchoes of the fragrant fall.  \\nA fleeting dance 'neath amber skies,  \\nWhere time slows down and magic lies.  \\n\\n---\\n\\nI hope this version adds the depth you were looking for!\" type='TextMessage'\n",
      "source='critic' models_usage=RequestUsage(prompt_tokens=461, completion_tokens=99) content=\"This revised version beautifully incorporates elements of community and fall activities, enriching the poem with a sense of togetherness and celebration. The inclusion of harvest festivals, friends gathering, and children laughing through corn mazes adds a delightful layer of warmth and camaraderie. The imagery of carving pumpkins and the flow of cider further evoke the joy and connection that the fall season often brings. This version maintains the original poem's charm while offering a more comprehensive depiction of autumn's spirit. Well done!\\n\\nAPPROVE\" type='TextMessage'\n",
      "TaskResult(messages=[TextMessage(source='user', models_usage=None, content='Write a short poem about the fall season.', type='TextMessage'), TextMessage(source='primary', models_usage=RequestUsage(prompt_tokens=28, completion_tokens=102), content=\"Golden leaves in gentle flight,  \\nWhispering winds in the crisp twilight.  \\nPumpkin patches, fields aglow,  \\nHarvest moons that softly show.  \\n\\nSweaters wrapped in warm embrace,  \\nThe cozy hearth, a glowing space.  \\nNature's palette, rich and bold,  \\nStories by the fire told.  \\n\\nIn the stillness, beauty calls,  \\nEchoes of the fragrant fall.  \\nA fleeting dance 'neath amber skies,  \\nWhere time slows down and magic lies.  \", type='TextMessage'), TextMessage(source='critic', models_usage=RequestUsage(prompt_tokens=145, completion_tokens=124), content=\"This is a lovely poem that captures the essence of the fall season beautifully. The imagery of golden leaves, whispering winds, and harvest moons creates a vivid picture of autumnal beauty. The lines about sweaters, a cozy hearth, and stories by the fire evoke a sense of warmth and comfort that is synonymous with fall. The poem's rhythm and flow are smooth, adding to its overall charm. You might consider expanding on the sense of community or other fall activities for added depth, but it stands beautifully as is. Well done!\\n\\nLet me know if you make any changes, and I'll be happy to review them.\", type='TextMessage'), TextMessage(source='primary', models_usage=RequestUsage(prompt_tokens=264, completion_tokens=182), content=\"Thank you for your thoughtful feedback! I'm glad you enjoyed the poem. Here's a revised version with an added emphasis on community and fall activities:\\n\\n---\\n\\nGolden leaves in gentle flight,  \\nWhispering winds in the crisp twilight.  \\nPumpkin patches, fields aglow,  \\nHarvest festivals, a lively show.  \\n\\nSweaters wrapped in warm embrace,  \\nFriends gather 'round, smiles on each face.  \\nNature's palette, rich and bold,  \\nStories by the fire retold.  \\n\\nChildren laugh through corn mazes wide,  \\nCarving pumpkins side by side.  \\nEchoes of joy as cider flows,  \\nWhere community thrives and warmth grows.  \\n\\nIn the stillness, beauty calls,  \\nEchoes of the fragrant fall.  \\nA fleeting dance 'neath amber skies,  \\nWhere time slows down and magic lies.  \\n\\n---\\n\\nI hope this version adds the depth you were looking for!\", type='TextMessage'), TextMessage(source='critic', models_usage=RequestUsage(prompt_tokens=461, completion_tokens=99), content=\"This revised version beautifully incorporates elements of community and fall activities, enriching the poem with a sense of togetherness and celebration. The inclusion of harvest festivals, friends gathering, and children laughing through corn mazes adds a delightful layer of warmth and camaraderie. The imagery of carving pumpkins and the flow of cider further evoke the joy and connection that the fall season often brings. This version maintains the original poem's charm while offering a more comprehensive depiction of autumn's spirit. Well done!\\n\\nAPPROVE\", type='TextMessage')], stop_reason=\"Text 'APPROVE' mentioned\")\n"
     ]
    }
   ],
   "source": [
    "# Reiniciar el equipo antes de una nueva tarea\n",
    "await team.reset()\n",
    "\n",
    "# Ejecutar con streaming para ver cada mensaje a medida que se genera\n",
    "async for message in team.run_stream(task=\"Write a short poem about the fall season.\"):\n",
    "    print(message)"
   ]
  }
 ],
 "metadata": {
  "kernelspec": {
   "display_name": "venv",
   "language": "python",
   "name": "python3"
  },
  "language_info": {
   "codemirror_mode": {
    "name": "ipython",
    "version": 3
   },
   "file_extension": ".py",
   "mimetype": "text/x-python",
   "name": "python",
   "nbconvert_exporter": "python",
   "pygments_lexer": "ipython3",
   "version": "3.13.1"
  }
 },
 "nbformat": 4,
 "nbformat_minor": 2
}
